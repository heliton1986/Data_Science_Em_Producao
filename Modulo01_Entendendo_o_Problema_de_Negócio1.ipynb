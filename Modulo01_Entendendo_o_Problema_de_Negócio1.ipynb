{
  "nbformat": 4,
  "nbformat_minor": 0,
  "metadata": {
    "colab": {
      "name": "Modulo01-Entendendo_o_Problema_de_Negócio.ipynb",
      "provenance": [],
      "collapsed_sections": [],
      "authorship_tag": "ABX9TyMYtb/VZc9rYPa95t1bIQOU",
      "include_colab_link": true
    },
    "kernelspec": {
      "name": "python3",
      "display_name": "Python 3"
    }
  },
  "cells": [
    {
      "cell_type": "markdown",
      "metadata": {
        "id": "view-in-github",
        "colab_type": "text"
      },
      "source": [
        "<a href=\"https://colab.research.google.com/github/heliton1986/Data_Science_Em_Producao/blob/main/Modulo01_Entendendo_o_Problema_de_Neg%C3%B3cio1.ipynb\" target=\"_parent\"><img src=\"https://colab.research.google.com/assets/colab-badge.svg\" alt=\"Open In Colab\"/></a>"
      ]
    },
    {
      "cell_type": "markdown",
      "metadata": {
        "id": "W8xx_Freu25y"
      },
      "source": [
        "# Estrutura do Treinamento"
      ]
    },
    {
      "cell_type": "markdown",
      "metadata": {
        "id": "c7STuP1Fu4OC"
      },
      "source": [
        "* Passo 1: Descrição dos Dados\n",
        "* Passo 2: Feature Engineering\n",
        "* Passo 3: Filtragem de Variáveis\n",
        "* Passo 4: Análise Exploratória(EDA)\n",
        "* Passo 5: Preparação dos Dados\n",
        "* Passo 6: Seleção de Variáveis com Algoritmo\n",
        "* Passo 7: Modelos de Machine Learning\n",
        "* Passo 8: Hyperparameter Fine Tuning\n",
        "* Passo 9: Interpretação e Tradução do Erro\n",
        "* Passo 10: Deploy do Modelo em Produção"
      ]
    },
    {
      "cell_type": "markdown",
      "metadata": {
        "id": "JvuHgkxDwM23"
      },
      "source": [
        "# Entenda o Problema de Negócio com 4 Perguntas"
      ]
    },
    {
      "cell_type": "markdown",
      "metadata": {
        "id": "9-LI8qkPwUzM"
      },
      "source": [
        "## 4 Tópicos para Entender os Problemas de Data Science"
      ]
    },
    {
      "cell_type": "markdown",
      "metadata": {
        "id": "Wmf-U_Be1ggA"
      },
      "source": [
        "O CFO pediu aos seus gerentes para fazer uma previsão de vendas das próximas 6 semanas"
      ]
    },
    {
      "cell_type": "markdown",
      "metadata": {
        "id": "rKtIATRawgrc"
      },
      "source": [
        "### **Entender: A Motivação**\n",
        " - Qual o contexto?\n",
        "    * **Resposta:** CFO requisitou essa solução durante a Reunião de Resultados Mensais.\n",
        "\n",
        "### **Entender: A Causa Raiz do Problema**\n",
        " * Por que fazer uma Previsão de Vendas?\n",
        "    * **Resposta:** Porque o CFO quer saber o quanto terá de vendas nas próximas semanas para saber o quanto pode pegar de caixa adiantado para a reforma da loja.\n",
        "\n",
        "### **Entender: Quem é o Dono do Problema?**\n",
        " * Quem será o Stakeholder?\n",
        "    * **Resposta:** O CFO ou um diretor que passa pela mesma dor(problema) \n",
        "\n",
        "### **Entender: O Formato da Solução**\n",
        " * Qual o formato da solução?\n",
        "    * *Granularidade*\n",
        "      * **Resposta:** Previsão vendas diárias\n",
        "\n",
        "    * *Tipo do Problema*\n",
        "      * **Resposta:** Previsão de demanda/vendas(Predição)\n",
        "\n",
        "    * *Potenciais Métodos*\n",
        "      * **Resposta:** Times Series/Regressão/Redes Neurais/Deep Learning\n",
        "\n",
        "    * *Formato da Entrega*\n",
        "      * **Resposta:** Predição acessadas nos celulares do CFO/diretor."
      ]
    },
    {
      "cell_type": "markdown",
      "metadata": {
        "id": "IjesjbEw5Kbt"
      },
      "source": [
        "## Entendendo os Dados Disponíveis"
      ]
    },
    {
      "cell_type": "markdown",
      "metadata": {
        "id": "oZ6DsLBf5tgK"
      },
      "source": [
        "testando"
      ]
    },
    {
      "cell_type": "code",
      "metadata": {
        "id": "_1kKGIieOkgJ"
      },
      "source": [
        ""
      ],
      "execution_count": null,
      "outputs": []
    }
  ]
}
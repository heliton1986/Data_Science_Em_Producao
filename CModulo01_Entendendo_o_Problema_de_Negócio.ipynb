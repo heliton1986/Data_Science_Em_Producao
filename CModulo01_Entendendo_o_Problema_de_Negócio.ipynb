{
  "nbformat": 4,
  "nbformat_minor": 0,
  "metadata": {
    "colab": {
      "name": "Cópia de Modulo01-Entendendo_o_Problema_de_Negócio.ipynb",
      "provenance": [],
      "collapsed_sections": [],
      "authorship_tag": "ABX9TyO//zXudMNthgiTIXdhkmnP",
      "include_colab_link": true
    },
    "kernelspec": {
      "name": "python3",
      "display_name": "Python 3"
    }
  },
  "cells": [
    {
      "cell_type": "markdown",
      "metadata": {
        "id": "view-in-github",
        "colab_type": "text"
      },
      "source": [
        "<a href=\"https://colab.research.google.com/github/heliton1986/Data_Science_Em_Producao/blob/main/CModulo01_Entendendo_o_Problema_de_Neg%C3%B3cio.ipynb\" target=\"_parent\"><img src=\"https://colab.research.google.com/assets/colab-badge.svg\" alt=\"Open In Colab\"/></a>"
      ]
    },
    {
      "cell_type": "markdown",
      "metadata": {
        "id": "W8xx_Freu25y"
      },
      "source": [
        "# Estrutura do Treinamento"
      ]
    },
    {
      "cell_type": "markdown",
      "metadata": {
        "id": "c7STuP1Fu4OC"
      },
      "source": [
        "* Passo 1: Descrição dos Dados\n",
        "* Passo 2: Feature Engineering\n",
        "* Passo 3: Filtragem de Variáveis\n",
        "* Passo 4: Análise Exploratória(EDA)\n",
        "* Passo 5: Preparação dos Dados\n",
        "* Passo 6: Seleção de Variáveis com Algoritmo\n",
        "* Passo 7: Modelos de Machine Learning\n",
        "* Passo 8: Hyperparameter Fine Tuning\n",
        "* Passo 9: Interpretação e Tradução do Erro\n",
        "* Passo 10: Deploy do Modelo em Produção"
      ]
    },
    {
      "cell_type": "markdown",
      "metadata": {
        "id": "JvuHgkxDwM23"
      },
      "source": [
        "# Entenda o Problema de Negócio com 4 Perguntas"
      ]
    },
    {
      "cell_type": "markdown",
      "metadata": {
        "id": "9-LI8qkPwUzM"
      },
      "source": [
        "## 4 Tópicos para Entender os Problemas de Data Science"
      ]
    },
    {
      "cell_type": "markdown",
      "metadata": {
        "id": "Wmf-U_Be1ggA"
      },
      "source": [
        "O CFO pediu aos seus gerentes para fazer uma previsão de vendas das próximas 6 semanas"
      ]
    },
    {
      "cell_type": "markdown",
      "metadata": {
        "id": "rKtIATRawgrc"
      },
      "source": [
        "### **Entender: A Motivação**\n",
        " - Qual o contexto?\n",
        "    * **Resposta:** CFO requisitou essa solução durante a Reunião de Resultados Mensais.\n",
        "\n",
        "### **Entender: A Causa Raiz do Problema**\n",
        " * Por que fazer uma Previsão de Vendas?\n",
        "    * **Resposta:** Porque o CFO quer saber o quanto terá de vendas nas próximas semanas para saber o quanto pode pegar de caixa adiantado para a reforma da loja.\n",
        "\n",
        "### **Entender: Quem é o Dono do Problema?**\n",
        " * Quem será o Stakeholder?\n",
        "    * **Resposta:** O CFO ou um diretor que passa pela mesma dor(problema) \n",
        "\n",
        "### **Entender: O Formato da Solução**\n",
        " * Qual o formato da solução?\n",
        "    * *Granularidade*\n",
        "      * **Resposta:** Previsão vendas diárias\n",
        "\n",
        "    * *Tipo do Problema*\n",
        "      * **Resposta:** Previsão de demanda/vendas(Predição)\n",
        "\n",
        "    * *Potenciais Métodos*\n",
        "      * **Resposta:** Times Series/Regressão/Redes Neurais/Deep Learning\n",
        "\n",
        "    * *Formato da Entrega*\n",
        "      * **Resposta:** Predição acessadas nos celulares do CFO/diretor."
      ]
    },
    {
      "cell_type": "markdown",
      "metadata": {
        "id": "IjesjbEw5Kbt"
      },
      "source": [
        "# O Método de Gerenciamento CRISP-DS"
      ]
    },
    {
      "cell_type": "markdown",
      "metadata": {
        "id": "oZ6DsLBf5tgK"
      },
      "source": [
        "## Características do CRISP-DS"
      ]
    },
    {
      "cell_type": "markdown",
      "metadata": {
        "id": "0TI04U3-UTeO"
      },
      "source": [
        " * Por que CRISP-DS é importante e muito usado em projetos de Data Science?\n",
        "\n",
        " * Por que ele é diferente de outros gerenciamentos de projetos?\n",
        " \n",
        " * Como que se aplica na prática?"
      ]
    },
    {
      "cell_type": "markdown",
      "metadata": {
        "id": "1EyJ_o0CUqcn"
      },
      "source": [
        "* CRoss-Industry Process-Data Science\n",
        "\n",
        "* Método Cíclico de Desenvolvimento\n"
      ]
    },
    {
      "cell_type": "markdown",
      "metadata": {
        "id": "2w8i7fh9MIRJ"
      },
      "source": [
        "### Benefícios do CRISP-DS"
      ]
    },
    {
      "cell_type": "markdown",
      "metadata": {
        "id": "xIYsP3RkMOrB"
      },
      "source": [
        "* 1 **Ciclo CRISP Completo:**\n",
        "  * 1 Versão End-to-End da Solução.\n",
        "  * Velocidade na Entrega de Valor.\n",
        "  * Mapeamento de todos os possíveis problemas."
      ]
    },
    {
      "cell_type": "markdown",
      "metadata": {
        "id": "AsYYH5oJNZbD"
      },
      "source": [
        "## Etapas do CRISP-DS"
      ]
    },
    {
      "cell_type": "markdown",
      "metadata": {
        "id": "41LQyE_XNeXi"
      },
      "source": [
        "* Questão de Negócio\n",
        "\n",
        "* Entendimento do Negócio\n",
        "\n",
        "* Coleta de Dados\n",
        "\n",
        "* Limpeza dos Dados\n",
        "\n",
        "* Exploração dos Dados\n",
        "\n",
        "* Modelagem dos Dados\n",
        "\n",
        "* Algoritmos de Machine Learning\n",
        "\n",
        "* Avaliação do Algoritmo\n",
        "\n",
        "*Se a performance do modelo está como esperada ou pode ser usada, nesse caso já pode ir para:*\n",
        "\n",
        "* Modelo de Produção"
      ]
    },
    {
      "cell_type": "markdown",
      "metadata": {
        "id": "an2TEnQIQQ3M"
      },
      "source": [
        "huhjkghehjkgrhk"
      ]
    },
    {
      "cell_type": "code",
      "metadata": {
        "id": "NHpeH5kqULNX"
      },
      "source": [
        ""
      ],
      "execution_count": null,
      "outputs": []
    }
  ]
}